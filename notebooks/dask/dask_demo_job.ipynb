{
 "cells": [
  {
   "cell_type": "markdown",
   "id": "952c99d9-c041-46d5-ac97-b858e3649745",
   "metadata": {},
   "source": [
    "# Quick Demo Job"
   ]
  },
  {
   "cell_type": "code",
   "execution_count": 1,
   "id": "0fc7c57a-bc30-4fd5-8e1e-316d736e5957",
   "metadata": {},
   "outputs": [],
   "source": [
    "import dask.array as da\n",
    "from dask.distributed import Client"
   ]
  },
  {
   "cell_type": "code",
   "execution_count": 2,
   "id": "d79bca92-8552-4335-abea-cf7712f7c45d",
   "metadata": {},
   "outputs": [],
   "source": [
    "KUBECLUSTER = False"
   ]
  },
  {
   "cell_type": "code",
   "execution_count": 5,
   "id": "815756d9-57b1-437f-b33b-7a2d05244fcc",
   "metadata": {},
   "outputs": [],
   "source": [
    "if KUBECLUSTER:\n",
    "    from dask_kubernetes import KubeCluster\n",
    "    cluster = KubeCluster('worker-spec.yml')\n",
    "    # Connect Dask to the cluster\n",
    "    client = Client(cluster)\n",
    "    cluster.scale(3)  # specify number of workers explicitly\n",
    "else:\n",
    "    # from distributed import Client\n",
    "    client = Client('tcp://dask-scheduler.kubeflow-user.svc.cluster.local:8786')"
   ]
  },
  {
   "cell_type": "code",
   "execution_count": 6,
   "id": "780dd73b-757f-406c-ab05-7f0861e387cc",
   "metadata": {},
   "outputs": [
    {
     "name": "stdout",
     "output_type": "stream",
     "text": [
      "1.0\n"
     ]
    }
   ],
   "source": [
    "\n",
    "# Create a large array and calculate the mean\n",
    "array = da.ones((10000, 1000, 1000), chunks=100)\n",
    "print(array.mean().compute())  # Should print 1.0"
   ]
  },
  {
   "cell_type": "code",
   "execution_count": null,
   "id": "7a1c9eea-f333-49d2-b2e1-879c48ba4e20",
   "metadata": {},
   "outputs": [],
   "source": []
  },
  {
   "cell_type": "code",
   "execution_count": null,
   "id": "9d2d4672-dd18-4964-99e8-dcae06df00a5",
   "metadata": {},
   "outputs": [],
   "source": []
  }
 ],
 "metadata": {
  "kernelspec": {
   "display_name": "Python 3 (ipykernel)",
   "language": "python",
   "name": "python3"
  },
  "language_info": {
   "codemirror_mode": {
    "name": "ipython",
    "version": 3
   },
   "file_extension": ".py",
   "mimetype": "text/x-python",
   "name": "python",
   "nbconvert_exporter": "python",
   "pygments_lexer": "ipython3",
   "version": "3.9.7"
  }
 },
 "nbformat": 4,
 "nbformat_minor": 5
}
