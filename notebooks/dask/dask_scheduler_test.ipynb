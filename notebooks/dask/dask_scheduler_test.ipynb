{
 "cells": [
  {
   "cell_type": "markdown",
   "metadata": {},
   "source": [
    "# Diagnostic data from dask scheduler connect issue"
   ]
  },
  {
   "cell_type": "markdown",
   "metadata": {},
   "source": [
    "## DASK k8s resources"
   ]
  },
  {
   "cell_type": "code",
   "execution_count": 1,
   "metadata": {},
   "outputs": [
    {
     "name": "stdout",
     "output_type": "stream",
     "text": [
      "NAME                                               READY   STATUS    RESTARTS   AGE\n",
      "dask-scheduler-5754b49469-tfrxh                    1/1     Running   1          45h\n",
      "dask-workers-598f8bc9d4-pwbwl                      1/1     Running   2          45h\n",
      "dask-workers-598f8bc9d4-r8q89                      1/1     Running   2          45h\n",
      "dask-workers-598f8bc9d4-kcbjf                      1/1     Running   2          45h\n",
      "dask-workers-598f8bc9d4-qqzbn                      1/1     Running   3          45h\n",
      "dask-workers-598f8bc9d4-4k9qv                      1/1     Running   2          45h\n",
      "ml-pipeline-ui-artifact-5dd95d555b-6w4sz           2/2     Running   8          5d\n",
      "dask-notebook-0                                    2/2     Running   2          45h\n",
      "dask-workers-598f8bc9d4-k5gt9                      1/1     Running   2          45h\n",
      "ml-pipeline-visualizationserver-6b44c6759f-fqpd9   2/2     Running   8          5d\n"
     ]
    }
   ],
   "source": [
    "!kubectl get pods"
   ]
  },
  {
   "cell_type": "markdown",
   "metadata": {},
   "source": [
    "## Show k8s definition of dask-scheduler"
   ]
  },
  {
   "cell_type": "code",
   "execution_count": 2,
   "metadata": {},
   "outputs": [
    {
     "name": "stdout",
     "output_type": "stream",
     "text": [
      "apiVersion: v1\n",
      "kind: Service\n",
      "metadata:\n",
      "  annotations:\n",
      "    kubectl.kubernetes.io/last-applied-configuration: |\n",
      "      {\"apiVersion\":\"v1\",\"kind\":\"Service\",\"metadata\":{\"annotations\":{},\"labels\":{\"app\":\"dask-scheduler\",\"component\":\"scheduler\"},\"name\":\"dask-scheduler\",\"namespace\":\"kubeflow-user\"},\"spec\":{\"ports\":[{\"name\":\"dask-scheduler\",\"port\":8786,\"protocol\":\"TCP\"}],\"selector\":{\"app\":\"dask-scheduler\",\"component\":\"scheduler\"}}}\n",
      "  creationTimestamp: \"2021-12-02T03:02:56Z\"\n",
      "  labels:\n",
      "    app: dask-scheduler\n",
      "    component: scheduler\n",
      "  name: dask-scheduler\n",
      "  namespace: kubeflow-user\n",
      "  resourceVersion: \"282945\"\n",
      "  uid: b4ced791-2325-4299-9c92-2b07b5c21ff4\n",
      "spec:\n",
      "  clusterIP: 10.43.193.58\n",
      "  clusterIPs:\n",
      "  - 10.43.193.58\n",
      "  ipFamilies:\n",
      "  - IPv4\n",
      "  ipFamilyPolicy: SingleStack\n",
      "  ports:\n",
      "  - name: dask-scheduler\n",
      "    port: 8786\n",
      "    protocol: TCP\n",
      "    targetPort: 8786\n",
      "  selector:\n",
      "    app: dask-scheduler\n",
      "    component: scheduler\n",
      "  sessionAffinity: None\n",
      "  type: ClusterIP\n",
      "status:\n",
      "  loadBalancer: {}\n"
     ]
    }
   ],
   "source": [
    "!kubectl get svc dask-scheduler -o yaml"
   ]
  },
  {
   "cell_type": "code",
   "execution_count": 3,
   "metadata": {},
   "outputs": [
    {
     "name": "stdout",
     "output_type": "stream",
     "text": [
      "Name:              dask-scheduler\n",
      "Namespace:         kubeflow-user\n",
      "Labels:            app=dask-scheduler\n",
      "                   component=scheduler\n",
      "Annotations:       <none>\n",
      "Selector:          app=dask-scheduler,component=scheduler\n",
      "Type:              ClusterIP\n",
      "IP Family Policy:  SingleStack\n",
      "IP Families:       IPv4\n",
      "IP:                10.43.193.58\n",
      "IPs:               10.43.193.58\n",
      "Port:              dask-scheduler  8786/TCP\n",
      "TargetPort:        8786/TCP\n",
      "Endpoints:         10.42.0.149:8786\n",
      "Session Affinity:  None\n",
      "Events:            <none>\n"
     ]
    }
   ],
   "source": [
    "!kubectl describe svc dask-scheduler"
   ]
  },
  {
   "cell_type": "code",
   "execution_count": 5,
   "metadata": {},
   "outputs": [
    {
     "data": {
      "text/plain": [
       "'10.43.193.58'"
      ]
     },
     "execution_count": 5,
     "metadata": {},
     "output_type": "execute_result"
    }
   ],
   "source": [
    "# service name resolves the the correct IP address\n",
    "import socket\n",
    "socket.gethostbyname('dask-scheduler.kubeflow-user.svc.cluster.local')"
   ]
  },
  {
   "cell_type": "code",
   "execution_count": 6,
   "metadata": {},
   "outputs": [
    {
     "name": "stdout",
     "output_type": "stream",
     "text": [
      "Name:         add-header\n",
      "Namespace:    kubeflow-user\n",
      "Labels:       <none>\n",
      "Annotations:  <none>\n",
      "API Version:  networking.istio.io/v1alpha3\n",
      "Kind:         EnvoyFilter\n",
      "Metadata:\n",
      "  Creation Timestamp:  2021-12-02T03:02:56Z\n",
      "  Generation:          1\n",
      "  Managed Fields:\n",
      "    API Version:  networking.istio.io/v1alpha3\n",
      "    Fields Type:  FieldsV1\n",
      "    fieldsV1:\n",
      "      f:metadata:\n",
      "        f:annotations:\n",
      "          .:\n",
      "          f:kubectl.kubernetes.io/last-applied-configuration:\n",
      "      f:spec:\n",
      "        .:\n",
      "        f:configPatches:\n",
      "    Manager:         kubectl-client-side-apply\n",
      "    Operation:       Update\n",
      "    Time:            2021-12-02T03:02:56Z\n",
      "  Resource Version:  282975\n",
      "  UID:               153988fa-eab1-4a1b-ba27-b0bae82e386f\n",
      "Spec:\n",
      "  Config Patches:\n",
      "    Apply To:  VIRTUAL_HOST\n",
      "    Match:\n",
      "      Context:  SIDECAR_OUTBOUND\n",
      "      Route Configuration:\n",
      "        Vhost:\n",
      "          Name:  dask-scheduler.kubeflow-user.svc.cluster.local:8786\n",
      "          Route:\n",
      "            Name:  default\n",
      "    Patch:\n",
      "      Operation:  MERGE\n",
      "      Value:\n",
      "        request_headers_to_add:\n",
      "          Append:  true\n",
      "          Header:\n",
      "            Key:    kubeflow-userid\n",
      "            Value:  kubeflow-user\n",
      "Events:             <none>\n"
     ]
    }
   ],
   "source": [
    "!kubectl describe envoyfilter add-header"
   ]
  },
  {
   "cell_type": "markdown",
   "metadata": {},
   "source": [
    "## Test connecting to dask-scheduler by service name and ip address"
   ]
  },
  {
   "cell_type": "code",
   "execution_count": 7,
   "metadata": {},
   "outputs": [],
   "source": [
    "from distributed import Client"
   ]
  },
  {
   "cell_type": "markdown",
   "metadata": {},
   "source": [
    "## Test connecting with dask scheduler service name"
   ]
  },
  {
   "cell_type": "code",
   "execution_count": 8,
   "metadata": {},
   "outputs": [
    {
     "name": "stdout",
     "output_type": "stream",
     "text": [
      "***\n",
      "*\n",
      "*FAILED TO CONNECT with service name: Timed out during handshake while connecting to tcp://dask-scheduler.kubeflow-user.svc.cluster.local:8786 after 30 s\n",
      "*\n",
      "***\n"
     ]
    }
   ],
   "source": [
    "try:\n",
    "    client = Client('tcp://dask-scheduler.kubeflow-user.svc.cluster.local:8786')\n",
    "    print(f'sucessfully connected: {client}')\n",
    "    client.close()\n",
    "except Exception as e:\n",
    "    print(\n",
    "        '***\\n'\n",
    "        '*\\n'\n",
    "        f'*FAILED TO CONNECT with service name: {e}\\n'\n",
    "        '*\\n'\n",
    "        '***'\n",
    "    )"
   ]
  },
  {
   "cell_type": "markdown",
   "metadata": {},
   "source": [
    "## Test connecting with dask scheduler endpoint IP Address"
   ]
  },
  {
   "cell_type": "code",
   "execution_count": 9,
   "metadata": {},
   "outputs": [
    {
     "data": {
      "text/plain": [
       "'10.42.0.149:8786'"
      ]
     },
     "execution_count": 9,
     "metadata": {},
     "output_type": "execute_result"
    }
   ],
   "source": [
    "# retrieve dask scheduler endpoint address\n",
    "\n",
    "ip_address = !kubectl get endpoints -l app=dask-scheduler -o jsonpath='{.items[0].subsets[0].addresses[0].ip}'\n",
    "port_number = !kubectl get endpoints -l app=dask-scheduler -o jsonpath='{.items[0].subsets[0].ports[0].port}'\n",
    "dask_scheduler_endpoint = ip_address[0] + ':' + port_number[0]\n",
    "dask_scheduler_endpoint"
   ]
  },
  {
   "cell_type": "code",
   "execution_count": 10,
   "metadata": {},
   "outputs": [
    {
     "name": "stdout",
     "output_type": "stream",
     "text": [
      "sucessfully connected: <Client: 'tcp://10.42.0.149:8786' processes=6 threads=12, memory=11.18 GiB>\n"
     ]
    }
   ],
   "source": [
    "try:\n",
    "    client = Client('tcp://' + dask_scheduler_endpoint)\n",
    "    print(f'sucessfully connected: {client}')\n",
    "    client.close()\n",
    "except Exception as e:\n",
    "       print(\n",
    "        '***\\n'\n",
    "        '*\\n'\n",
    "        f'*FAILED TO CONNECT with ip address: {e}\\n'\n",
    "        '*\\n'\n",
    "        '***'\n",
    "    )"
   ]
  },
  {
   "cell_type": "code",
   "execution_count": null,
   "metadata": {},
   "outputs": [],
   "source": []
  }
 ],
 "metadata": {
  "kernelspec": {
   "display_name": "Python 3 (ipykernel)",
   "language": "python",
   "name": "python3"
  },
  "language_info": {
   "codemirror_mode": {
    "name": "ipython",
    "version": 3
   },
   "file_extension": ".py",
   "mimetype": "text/x-python",
   "name": "python",
   "nbconvert_exporter": "python",
   "pygments_lexer": "ipython3",
   "version": "3.9.7"
  }
 },
 "nbformat": 4,
 "nbformat_minor": 4
}
