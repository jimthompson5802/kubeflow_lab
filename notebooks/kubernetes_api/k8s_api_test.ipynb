{
 "cells": [
  {
   "cell_type": "markdown",
   "id": "7bdc1e85-ede3-493c-99bd-bd9e6aafb388",
   "metadata": {},
   "source": [
    "# Examples of Python k8s api usage\n",
    "\n",
    "This notebook demonstrates the use of k8s python client package. \n",
    "\n",
    "Each k8s operation is show twice.  First, the `kubectl` way of performing the operation is shown.  Next the Python API version of the same operations is shown."
   ]
  },
  {
   "cell_type": "markdown",
   "id": "a3a7481f-8e7c-45b4-9f2f-721f213c8952",
   "metadata": {},
   "source": [
    "## Install required packages\n",
    "If needed, uncomment the next cell to install k8s python client package"
   ]
  },
  {
   "cell_type": "code",
   "execution_count": 1,
   "id": "fd00de1f-1db9-40da-ad05-f9b70fba91c1",
   "metadata": {},
   "outputs": [],
   "source": [
    "#!pip install kubernetes"
   ]
  },
  {
   "cell_type": "markdown",
   "id": "5238b794-5950-4e77-b5d7-a70c1db682f4",
   "metadata": {},
   "source": [
    "## Imports and setup"
   ]
  },
  {
   "cell_type": "code",
   "execution_count": 2,
   "id": "0a54001c-f58f-4800-98da-69752db9fbe3",
   "metadata": {},
   "outputs": [],
   "source": [
    "from kubernetes import client, config"
   ]
  },
  {
   "cell_type": "code",
   "execution_count": 3,
   "id": "ed6bb68f-0196-403b-b06f-5cf15c59305a",
   "metadata": {},
   "outputs": [],
   "source": [
    "# Configs can be set in Configuration class directly or using helper utility\n",
    "config.load_incluster_config()"
   ]
  },
  {
   "cell_type": "markdown",
   "id": "97b96baf-d7b7-4d9a-9935-24b218087b15",
   "metadata": {},
   "source": [
    "## List pods in user namespace"
   ]
  },
  {
   "cell_type": "markdown",
   "id": "8639b265-1b5c-4328-9c61-8a7638cf0938",
   "metadata": {},
   "source": [
    "### kubectl cli"
   ]
  },
  {
   "cell_type": "code",
   "execution_count": 4,
   "id": "6d48219e-b7b8-40d1-b89a-47f0ab6b7eab",
   "metadata": {},
   "outputs": [
    {
     "name": "stdout",
     "output_type": "stream",
     "text": [
      "NAME                                               READY   STATUS    RESTARTS   AGE\n",
      "ml-pipeline-visualizationserver-6b44c6759f-k5b5w   2/2     Running   2          5h55m\n",
      "ml-pipeline-ui-artifact-5dd95d555b-f4dwm           2/2     Running   2          5h55m\n",
      "test-notebook-0                                    2/2     Running   0          102m\n"
     ]
    }
   ],
   "source": [
    "!kubectl get pod -n kubeflow-user"
   ]
  },
  {
   "cell_type": "markdown",
   "id": "c83abcb0-7aa5-4ba0-8ecb-fb7c3cf3f22c",
   "metadata": {},
   "source": [
    "### Python API"
   ]
  },
  {
   "cell_type": "code",
   "execution_count": 5,
   "id": "ba19ba07-e6c7-4fd3-8394-269fec221fbc",
   "metadata": {},
   "outputs": [
    {
     "name": "stdout",
     "output_type": "stream",
     "text": [
      "Listing pods with their IPs:\n",
      "10.42.0.40\tkubeflow-user\tml-pipeline-visualizationserver-6b44c6759f-k5b5w\n",
      "10.42.1.58\tkubeflow-user\tml-pipeline-ui-artifact-5dd95d555b-f4dwm\n",
      "10.42.1.65\tkubeflow-user\ttest-notebook-0\n"
     ]
    }
   ],
   "source": [
    "# get v1 api client\n",
    "v1 = client.CoreV1Api()\n",
    "\n",
    "# get pod information\n",
    "print(\"Listing pods with their IPs:\")\n",
    "ret = v1.list_namespaced_pod('kubeflow-user')\n",
    "for i in ret.items:\n",
    "    print(\"%s\\t%s\\t%s\" % (i.status.pod_ip, i.metadata.namespace, i.metadata.name))"
   ]
  },
  {
   "cell_type": "markdown",
   "id": "54151bea-219b-4e93-8ea6-598a5da06fa9",
   "metadata": {},
   "source": [
    "## List deployments in user namespace"
   ]
  },
  {
   "cell_type": "markdown",
   "id": "a03f8c34-57a4-471b-9225-2899d09911d3",
   "metadata": {},
   "source": [
    "### kubectl cli"
   ]
  },
  {
   "cell_type": "code",
   "execution_count": 6,
   "id": "54a5b6a6-b2a2-4d39-b8ff-da506c9b258c",
   "metadata": {},
   "outputs": [
    {
     "name": "stdout",
     "output_type": "stream",
     "text": [
      "NAME                              READY   UP-TO-DATE   AVAILABLE   AGE\n",
      "ml-pipeline-visualizationserver   1/1     1            1           5h56m\n",
      "ml-pipeline-ui-artifact           1/1     1            1           5h56m\n"
     ]
    }
   ],
   "source": [
    "!kubectl get deploy -n kubeflow-user"
   ]
  },
  {
   "cell_type": "markdown",
   "id": "50c16a6e-f944-4568-978c-07fda2385912",
   "metadata": {},
   "source": [
    "### Python API"
   ]
  },
  {
   "cell_type": "code",
   "execution_count": 7,
   "id": "6269b645-68c6-4358-871f-aad9f57d8e56",
   "metadata": {},
   "outputs": [
    {
     "name": "stdout",
     "output_type": "stream",
     "text": [
      "listing deployments\n",
      "ml-pipeline-visualizationserver, replicas: 1, ready replicas: 1\n",
      "ml-pipeline-ui-artifact, replicas: 1, ready replicas: 1\n"
     ]
    }
   ],
   "source": [
    "appv1 = client.AppsV1Api()\n",
    "print(\"listing deployments\")\n",
    "ret = appv1.list_namespaced_deployment('kubeflow-user')\n",
    "for i in ret.items:\n",
    "    print(\n",
    "        f'{i.metadata.name}, replicas: {i.status.replicas}, '\n",
    "        f'ready replicas: {i.status.ready_replicas}'\n",
    "    )"
   ]
  },
  {
   "cell_type": "markdown",
   "id": "96f7435d-73c7-4217-8452-f9275b7ea607",
   "metadata": {},
   "source": [
    "## Start a pod and then shut it down"
   ]
  },
  {
   "cell_type": "markdown",
   "id": "1cf1bb6c-b79e-4792-a31a-25d663fc2b0e",
   "metadata": {},
   "source": [
    "### kubectl cli"
   ]
  },
  {
   "cell_type": "code",
   "execution_count": 8,
   "id": "ed920c7f-15a8-4dea-82cf-815021cfe6af",
   "metadata": {},
   "outputs": [
    {
     "name": "stdout",
     "output_type": "stream",
     "text": [
      "pod/nginx created\n"
     ]
    }
   ],
   "source": [
    "%%bash\n",
    "cat <<EOF | kubectl apply -f - -n kubeflow-user\n",
    "apiVersion: v1\n",
    "kind: Pod\n",
    "metadata:\n",
    "  name: nginx\n",
    "spec:\n",
    "  containers:\n",
    "  - name: nginx\n",
    "    image: nginx:1.14.2\n",
    "    ports:\n",
    "    - containerPort: 80\n",
    "EOF"
   ]
  },
  {
   "cell_type": "code",
   "execution_count": 9,
   "id": "0224400a-893f-4f8c-811b-9fcbb5e21e02",
   "metadata": {},
   "outputs": [
    {
     "name": "stdout",
     "output_type": "stream",
     "text": [
      "NAME                                               READY   STATUS    RESTARTS   AGE\n",
      "ml-pipeline-visualizationserver-6b44c6759f-k5b5w   2/2     Running   2          5h56m\n",
      "ml-pipeline-ui-artifact-5dd95d555b-f4dwm           2/2     Running   2          5h56m\n",
      "test-notebook-0                                    2/2     Running   0          102m\n",
      "nginx                                              2/2     Running   0          7s\n"
     ]
    }
   ],
   "source": [
    "!kubectl get pod -n kubeflow-user"
   ]
  },
  {
   "cell_type": "code",
   "execution_count": 10,
   "id": "33644c52-f8b5-46f3-96b3-5460d81732c1",
   "metadata": {},
   "outputs": [
    {
     "name": "stdout",
     "output_type": "stream",
     "text": [
      "pod \"nginx\" deleted\n"
     ]
    }
   ],
   "source": [
    "!kubectl delete pod nginx -n kubeflow-user"
   ]
  },
  {
   "cell_type": "markdown",
   "id": "81f7df98-ce59-4c89-9922-fcab4aa15528",
   "metadata": {},
   "source": [
    "### Python API"
   ]
  },
  {
   "cell_type": "code",
   "execution_count": 11,
   "id": "89112e75-b953-4d32-885f-9c72568ce849",
   "metadata": {},
   "outputs": [],
   "source": [
    "# setup the container definition\n",
    "nginx_container=client.V1Container(name='nginx')\n",
    "nginx_container.image = 'nginx:1.14.2'\n",
    "nginx_container.ports = [client.V1ContainerPort(80)]\n",
    "\n",
    "# setup pod spec definition\n",
    "pod_spec = client.V1PodSpec(containers=[nginx_container])\n",
    "\n",
    "# setup pod metadata\n",
    "pod_metadata = client.V1ObjectMeta(name='nginx')\n",
    "\n",
    "# setup Pod definition\n",
    "pod = client.V1Pod(\n",
    "    metadata=pod_metadata,\n",
    "    spec=pod_spec\n",
    ")\n",
    "\n",
    "# create the pod\n",
    "pod_ret = v1.create_namespaced_pod(namespace='kubeflow-user', body=pod)"
   ]
  },
  {
   "cell_type": "code",
   "execution_count": 12,
   "id": "21aba136-2dd6-4a78-b50a-f4e411401005",
   "metadata": {},
   "outputs": [
    {
     "name": "stdout",
     "output_type": "stream",
     "text": [
      "Listing pods with their IPs:\n",
      "10.42.0.40\tkubeflow-user\tRunning\tml-pipeline-visualizationserver-6b44c6759f-k5b5w\n",
      "10.42.1.58\tkubeflow-user\tRunning\tml-pipeline-ui-artifact-5dd95d555b-f4dwm\n",
      "10.42.1.65\tkubeflow-user\tRunning\ttest-notebook-0\n",
      "10.42.0.75\tkubeflow-user\tRunning\tnginx\n"
     ]
    }
   ],
   "source": [
    "# get running pods\n",
    "print(\"Listing pods with their IPs:\")\n",
    "ret = v1.list_namespaced_pod('kubeflow-user')\n",
    "for i in ret.items:\n",
    "    print(\"%s\\t%s\\t%s\\t%s\" % (i.status.pod_ip, i.metadata.namespace, i.status.phase, i.metadata.name))"
   ]
  },
  {
   "cell_type": "code",
   "execution_count": 13,
   "id": "77295cc7-8aa0-454e-adfb-653e340a2700",
   "metadata": {},
   "outputs": [
    {
     "name": "stdout",
     "output_type": "stream",
     "text": [
      "Containers running in the nginx pod\n",
      "  container name: nginx\n",
      "  container name: istio-proxy\n"
     ]
    }
   ],
   "source": [
    "# get information about the nginx pod\n",
    "print('Containers running in the nginx pod')\n",
    "for c in pod_ret.spec.containers:\n",
    "    print(f'  container name: {c.name}')"
   ]
  },
  {
   "cell_type": "code",
   "execution_count": 14,
   "id": "6d2de524-5bdd-42cd-96bc-b66f84e041ee",
   "metadata": {},
   "outputs": [],
   "source": [
    "# remove the pod\n",
    "delete_results = v1.delete_namespaced_pod(name='nginx', namespace='kubeflow-user', body=client.V1DeleteOptions())"
   ]
  },
  {
   "cell_type": "code",
   "execution_count": 16,
   "id": "d68fc69e-bb13-4bd3-9e16-1b700c673870",
   "metadata": {},
   "outputs": [
    {
     "name": "stdout",
     "output_type": "stream",
     "text": [
      "Listing pods with their IPs:\n",
      "10.42.0.40\tkubeflow-user\tRunning\tml-pipeline-visualizationserver-6b44c6759f-k5b5w\n",
      "10.42.1.58\tkubeflow-user\tRunning\tml-pipeline-ui-artifact-5dd95d555b-f4dwm\n",
      "10.42.1.65\tkubeflow-user\tRunning\ttest-notebook-0\n"
     ]
    }
   ],
   "source": [
    "# get running pods\n",
    "print(\"Listing pods with their IPs:\")\n",
    "ret = v1.list_namespaced_pod('kubeflow-user')\n",
    "for i in ret.items:\n",
    "    print(\"%s\\t%s\\t%s\\t%s\" % (i.status.pod_ip, i.metadata.namespace, i.status.phase, i.metadata.name))"
   ]
  },
  {
   "cell_type": "code",
   "execution_count": null,
   "id": "aa40284f-c115-407d-ba61-8d5036408abf",
   "metadata": {},
   "outputs": [],
   "source": []
  }
 ],
 "metadata": {
  "kernelspec": {
   "display_name": "Python 3",
   "language": "python",
   "name": "python3"
  },
  "language_info": {
   "codemirror_mode": {
    "name": "ipython",
    "version": 3
   },
   "file_extension": ".py",
   "mimetype": "text/x-python",
   "name": "python",
   "nbconvert_exporter": "python",
   "pygments_lexer": "ipython3",
   "version": "3.8.10"
  }
 },
 "nbformat": 4,
 "nbformat_minor": 5
}
