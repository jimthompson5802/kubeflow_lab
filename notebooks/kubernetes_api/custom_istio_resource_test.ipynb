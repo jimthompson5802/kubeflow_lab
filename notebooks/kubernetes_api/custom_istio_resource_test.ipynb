{
 "cells": [
  {
   "cell_type": "markdown",
   "id": "fdc1f14f-d3e8-4829-9682-ff3665f03789",
   "metadata": {},
   "source": [
    "# Deploying custom istio resources"
   ]
  },
  {
   "cell_type": "markdown",
   "id": "746ff8ed-c67c-40a1-ac06-5e8daa44d1a4",
   "metadata": {},
   "source": [
    "## install kubernetes python library"
   ]
  },
  {
   "cell_type": "code",
   "execution_count": 1,
   "id": "78ce1d1b-b841-4bab-906a-2ec3036b03ba",
   "metadata": {},
   "outputs": [
    {
     "name": "stdout",
     "output_type": "stream",
     "text": [
      "Requirement already satisfied: kubernetes in /opt/conda/lib/python3.8/site-packages (12.0.1)\n",
      "Requirement already satisfied: requests-oauthlib in /opt/conda/lib/python3.8/site-packages (from kubernetes) (1.3.0)\n",
      "Requirement already satisfied: google-auth>=1.0.1 in /opt/conda/lib/python3.8/site-packages (from kubernetes) (1.35.0)\n",
      "Requirement already satisfied: requests in /opt/conda/lib/python3.8/site-packages (from kubernetes) (2.25.1)\n",
      "Requirement already satisfied: setuptools>=21.0.0 in /opt/conda/lib/python3.8/site-packages (from kubernetes) (49.6.0.post20210108)\n",
      "Requirement already satisfied: pyyaml>=3.12 in /opt/conda/lib/python3.8/site-packages (from kubernetes) (5.4.1)\n",
      "Requirement already satisfied: websocket-client!=0.40.0,!=0.41.*,!=0.42.*,>=0.32.0 in /opt/conda/lib/python3.8/site-packages (from kubernetes) (1.0.1)\n",
      "Requirement already satisfied: urllib3>=1.24.2 in /opt/conda/lib/python3.8/site-packages (from kubernetes) (1.26.5)\n",
      "Requirement already satisfied: python-dateutil>=2.5.3 in /opt/conda/lib/python3.8/site-packages (from kubernetes) (2.8.1)\n",
      "Requirement already satisfied: certifi>=14.05.14 in /opt/conda/lib/python3.8/site-packages (from kubernetes) (2021.5.30)\n",
      "Requirement already satisfied: six>=1.9.0 in /opt/conda/lib/python3.8/site-packages (from kubernetes) (1.16.0)\n",
      "Requirement already satisfied: pyasn1-modules>=0.2.1 in /opt/conda/lib/python3.8/site-packages (from google-auth>=1.0.1->kubernetes) (0.2.8)\n",
      "Requirement already satisfied: cachetools<5.0,>=2.0.0 in /opt/conda/lib/python3.8/site-packages (from google-auth>=1.0.1->kubernetes) (4.2.4)\n",
      "Requirement already satisfied: rsa<5,>=3.1.4 in /opt/conda/lib/python3.8/site-packages (from google-auth>=1.0.1->kubernetes) (4.7.2)\n",
      "Requirement already satisfied: pyasn1<0.5.0,>=0.4.6 in /opt/conda/lib/python3.8/site-packages (from pyasn1-modules>=0.2.1->google-auth>=1.0.1->kubernetes) (0.4.8)\n",
      "Requirement already satisfied: chardet<5,>=3.0.2 in /opt/conda/lib/python3.8/site-packages (from requests->kubernetes) (4.0.0)\n",
      "Requirement already satisfied: idna<3,>=2.5 in /opt/conda/lib/python3.8/site-packages (from requests->kubernetes) (2.10)\n",
      "Requirement already satisfied: oauthlib>=3.0.0 in /opt/conda/lib/python3.8/site-packages (from requests-oauthlib->kubernetes) (3.1.1)\n"
     ]
    }
   ],
   "source": [
    "!pip install kubernetes"
   ]
  },
  {
   "cell_type": "markdown",
   "id": "58d61978-55dc-4755-bacd-ad18015ac181",
   "metadata": {},
   "source": [
    "## Imports"
   ]
  },
  {
   "cell_type": "code",
   "execution_count": 2,
   "id": "b7f0161e-3eda-43f5-a780-4fe2b0cb4520",
   "metadata": {},
   "outputs": [],
   "source": [
    "from kubernetes import client, config\n",
    "import yaml"
   ]
  },
  {
   "cell_type": "markdown",
   "id": "a2b95017-9440-45a2-90a3-1fda1565656d",
   "metadata": {},
   "source": [
    "## Yaml Templates"
   ]
  },
  {
   "cell_type": "code",
   "execution_count": 3,
   "id": "c32848dd-d4e1-4820-a0b7-8e40105ada62",
   "metadata": {},
   "outputs": [],
   "source": [
    "envoy_filter_yaml = \"\"\"\n",
    "apiVersion: networking.istio.io/v1alpha3\n",
    "kind: EnvoyFilter\n",
    "metadata:\n",
    "  name: add-header\n",
    "  namespace: kubeflow-user\n",
    "spec:\n",
    "  configPatches:\n",
    "  - applyTo: VIRTUAL_HOST\n",
    "    match:\n",
    "      context: SIDECAR_OUTBOUND\n",
    "      routeConfiguration:\n",
    "        vhost:\n",
    "          name: dask-scheduler.kubeflow-user.svc.cluster.local:8786\n",
    "          route:\n",
    "            name: default\n",
    "    patch:\n",
    "      operation: MERGE\n",
    "      value:\n",
    "        request_headers_to_add:\n",
    "        - append: true\n",
    "          header:\n",
    "            key: kubeflow-userid\n",
    "            value: kubeflow-user\n",
    "\"\"\"\n",
    "\n",
    "\n",
    "virtual_service_yaml = \"\"\"                \n",
    "apiVersion: networking.istio.io/v1alpha3\n",
    "kind: VirtualService\n",
    "metadata:\n",
    "  name: dask-scheduler\n",
    "  namespace: kubeflow-user\n",
    "spec:\n",
    "  gateways:\n",
    "  - kubeflow/kubeflow-gateway\n",
    "  hosts:\n",
    "  - '*'\n",
    "  http:\n",
    "  - match:\n",
    "    - uri:\n",
    "        prefix: /apps/kubeflow-user/dask/\n",
    "    rewrite:\n",
    "      uri: /\n",
    "    route:\n",
    "    - destination:\n",
    "        host: dask-scheduler-ui.kubeflow-user.svc.cluster.local\n",
    "        port:\n",
    "          number: 80\n",
    "    timeout: 300s\n",
    "\"\"\""
   ]
  },
  {
   "cell_type": "markdown",
   "id": "68721c71-5a52-4e1c-82cc-02c1a2f888e6",
   "metadata": {},
   "source": [
    "## Setup to access k8s"
   ]
  },
  {
   "cell_type": "code",
   "execution_count": 4,
   "id": "22c0f4d5-55c8-4dba-b69f-f0269c316e9f",
   "metadata": {},
   "outputs": [],
   "source": [
    "# get in-cluster config\n",
    "config.load_incluster_config()\n",
    "\n",
    "# Client API Interface\n",
    "api_client = client.ApiClient()\n",
    "\n",
    "# V1 Core API Interface\n",
    "v1_api = client.CoreV1Api()\n",
    "\n",
    "# interface to manipulate custom resources\n",
    "api_custom_object = client.CustomObjectsApi(api_client)"
   ]
  },
  {
   "cell_type": "markdown",
   "id": "f57f0f7b-339a-441a-976a-5d8e34190e08",
   "metadata": {},
   "source": [
    "## Deploy the istio custom resources"
   ]
  },
  {
   "cell_type": "code",
   "execution_count": 5,
   "id": "c0bdf6b1-c246-46e7-92cb-ff4bc787d8b6",
   "metadata": {},
   "outputs": [],
   "source": [
    "# convert yaml template to dictionary to pass in api call\n",
    "envoy_filter = yaml.load(envoy_filter_yaml, Loader=yaml.SafeLoader)\n",
    "virtual_service = yaml.load(virtual_service_yaml, Loader=yaml.SafeLoader)"
   ]
  },
  {
   "cell_type": "code",
   "execution_count": 6,
   "id": "f32de4e2-e674-49a8-91a5-76b067023988",
   "metadata": {},
   "outputs": [],
   "source": [
    "# deploy custom objects\n",
    "virtual_service_object = api_custom_object.create_namespaced_custom_object(\n",
    "    group='networking.istio.io', \n",
    "    version='v1alpha3',\n",
    "    namespace='kubeflow-user',\n",
    "    plural='virtualservices',\n",
    "    body=virtual_service\n",
    ")\n",
    "\n",
    "envoy_filter_object = api_custom_object.create_namespaced_custom_object(\n",
    "    group='networking.istio.io', \n",
    "    version='v1alpha3',\n",
    "    namespace='kubeflow-user',\n",
    "    plural='envoyfilters',\n",
    "    body=envoy_filter\n",
    ")\n",
    "ef_object = api_custom_object.get_namespaced_custom_object(\n",
    "    group='networking.istio.io', \n",
    "    version='v1alpha3',\n",
    "    namespace='kubeflow-user',\n",
    "    plural='envoyfilters',\n",
    "    name='add-header'\n",
    ")"
   ]
  },
  {
   "cell_type": "markdown",
   "id": "9e9690fc-0b39-4936-93d1-1a70894ab3e3",
   "metadata": {},
   "source": [
    "## Read objects"
   ]
  },
  {
   "cell_type": "code",
   "execution_count": 7,
   "id": "c9525c96-ec31-4eff-8fba-1557454c5700",
   "metadata": {},
   "outputs": [
    {
     "data": {
      "text/plain": [
       "{'apiVersion': 'networking.istio.io/v1alpha3',\n",
       " 'kind': 'EnvoyFilter',\n",
       " 'metadata': {'creationTimestamp': '2021-12-24T16:22:50Z',\n",
       "  'generation': 1,\n",
       "  'managedFields': [{'apiVersion': 'networking.istio.io/v1alpha3',\n",
       "    'fieldsType': 'FieldsV1',\n",
       "    'fieldsV1': {'f:spec': {'.': {}, 'f:configPatches': {}}},\n",
       "    'manager': 'OpenAPI-Generator',\n",
       "    'operation': 'Update',\n",
       "    'time': '2021-12-24T16:22:50Z'}],\n",
       "  'name': 'add-header',\n",
       "  'namespace': 'kubeflow-user',\n",
       "  'resourceVersion': '51412',\n",
       "  'uid': '7c629087-0cd7-4ba5-b2f3-8d0003d74753'},\n",
       " 'spec': {'configPatches': [{'applyTo': 'VIRTUAL_HOST',\n",
       "    'match': {'context': 'SIDECAR_OUTBOUND',\n",
       "     'routeConfiguration': {'vhost': {'name': 'dask-scheduler.kubeflow-user.svc.cluster.local:8786',\n",
       "       'route': {'name': 'default'}}}},\n",
       "    'patch': {'operation': 'MERGE',\n",
       "     'value': {'request_headers_to_add': [{'append': True,\n",
       "        'header': {'key': 'kubeflow-userid', 'value': 'kubeflow-user'}}]}}}]}}"
      ]
     },
     "execution_count": 7,
     "metadata": {},
     "output_type": "execute_result"
    }
   ],
   "source": [
    "ef_object"
   ]
  },
  {
   "cell_type": "code",
   "execution_count": 8,
   "id": "4465194e-ae08-4ffc-917f-b13ade6850d0",
   "metadata": {},
   "outputs": [
    {
     "data": {
      "text/plain": [
       "{'apiVersion': 'networking.istio.io/v1alpha3',\n",
       " 'kind': 'VirtualService',\n",
       " 'metadata': {'creationTimestamp': '2021-12-24T16:22:50Z',\n",
       "  'generation': 1,\n",
       "  'managedFields': [{'apiVersion': 'networking.istio.io/v1alpha3',\n",
       "    'fieldsType': 'FieldsV1',\n",
       "    'fieldsV1': {'f:spec': {'.': {},\n",
       "      'f:gateways': {},\n",
       "      'f:hosts': {},\n",
       "      'f:http': {}}},\n",
       "    'manager': 'OpenAPI-Generator',\n",
       "    'operation': 'Update',\n",
       "    'time': '2021-12-24T16:22:50Z'}],\n",
       "  'name': 'dask-scheduler',\n",
       "  'namespace': 'kubeflow-user',\n",
       "  'resourceVersion': '51410',\n",
       "  'uid': 'fe26151c-8752-4590-9d16-60fbbd79ce23'},\n",
       " 'spec': {'gateways': ['kubeflow/kubeflow-gateway'],\n",
       "  'hosts': ['*'],\n",
       "  'http': [{'match': [{'uri': {'prefix': '/apps/kubeflow-user/dask/'}}],\n",
       "    'rewrite': {'uri': '/'},\n",
       "    'route': [{'destination': {'host': 'dask-scheduler-ui.kubeflow-user.svc.cluster.local',\n",
       "       'port': {'number': 80}}}],\n",
       "    'timeout': '300s'}]}}"
      ]
     },
     "execution_count": 8,
     "metadata": {},
     "output_type": "execute_result"
    }
   ],
   "source": [
    "vs_object = api_custom_object.get_namespaced_custom_object(\n",
    "    group='networking.istio.io', \n",
    "    version='v1alpha3',\n",
    "    namespace='kubeflow-user',\n",
    "    plural='virtualservices',\n",
    "    name='dask-scheduler'\n",
    ")\n",
    "vs_object"
   ]
  },
  {
   "cell_type": "markdown",
   "id": "9ccc6c63-caa2-4a53-9475-32ec0cd6f22e",
   "metadata": {},
   "source": [
    "## Show custom objects"
   ]
  },
  {
   "cell_type": "code",
   "execution_count": 9,
   "id": "2bb00274-17f9-4925-9f99-d6ff3986c301",
   "metadata": {},
   "outputs": [
    {
     "name": "stdout",
     "output_type": "stream",
     "text": [
      "NAME                                     GATEWAYS                        HOSTS   AGE\n",
      "notebook-kubeflow-user-k8sapi-notebook   [\"kubeflow/kubeflow-gateway\"]   [\"*\"]   23m\n",
      "dask-scheduler                           [\"kubeflow/kubeflow-gateway\"]   [\"*\"]   1s\n"
     ]
    }
   ],
   "source": [
    "!kubectl get vs"
   ]
  },
  {
   "cell_type": "code",
   "execution_count": 10,
   "id": "aeffcb71-7764-4694-887a-8966f7ba6e10",
   "metadata": {},
   "outputs": [
    {
     "name": "stdout",
     "output_type": "stream",
     "text": [
      "NAME         AGE\n",
      "add-header   1s\n"
     ]
    }
   ],
   "source": [
    "!kubectl get envoyfilters"
   ]
  },
  {
   "cell_type": "markdown",
   "id": "df252038-72a8-40ae-b968-8dafe7126c2f",
   "metadata": {},
   "source": [
    "## Clean up"
   ]
  },
  {
   "cell_type": "code",
   "execution_count": 11,
   "id": "5ee533cb-6295-4f16-bedd-7a66713db0a5",
   "metadata": {},
   "outputs": [],
   "source": [
    "# delete the custom objects\n",
    "result = api_custom_object.delete_namespaced_custom_object(\n",
    "    group='networking.istio.io', \n",
    "    version='v1alpha3',\n",
    "    namespace='kubeflow-user',\n",
    "    plural='virtualservices',\n",
    "    name='dask-scheduler'\n",
    ")\n",
    "\n",
    "result = api_custom_object.delete_namespaced_custom_object(\n",
    "    group='networking.istio.io', \n",
    "    version='v1alpha3',\n",
    "    namespace='kubeflow-user',\n",
    "    plural='envoyfilters',\n",
    "    name='add-header'\n",
    ")"
   ]
  },
  {
   "cell_type": "markdown",
   "id": "26fdbc15-64db-4798-8ddc-974cb26b9579",
   "metadata": {},
   "source": [
    "## Confirm removal of custom objects"
   ]
  },
  {
   "cell_type": "code",
   "execution_count": 12,
   "id": "b4866d10-160e-4718-8a6c-7453b6635e6a",
   "metadata": {},
   "outputs": [
    {
     "name": "stdout",
     "output_type": "stream",
     "text": [
      "NAME                                     GATEWAYS                        HOSTS   AGE\n",
      "notebook-kubeflow-user-k8sapi-notebook   [\"kubeflow/kubeflow-gateway\"]   [\"*\"]   23m\n"
     ]
    }
   ],
   "source": [
    "!kubectl get virtualservices"
   ]
  },
  {
   "cell_type": "code",
   "execution_count": 13,
   "id": "fa2c708e-3a9e-4cb5-859a-d2875d22f43d",
   "metadata": {},
   "outputs": [
    {
     "name": "stdout",
     "output_type": "stream",
     "text": [
      "No resources found in kubeflow-user namespace.\n"
     ]
    }
   ],
   "source": [
    "!kubectl get envoyfilters"
   ]
  },
  {
   "cell_type": "markdown",
   "id": "2d1a7d3b-deaf-4f2b-a1fe-b10684831f65",
   "metadata": {},
   "source": [
    "## Help Doc on Custom Object Manipulation"
   ]
  },
  {
   "cell_type": "code",
   "execution_count": 14,
   "id": "6a273643-49ad-48ef-9ccd-abd3556ab831",
   "metadata": {},
   "outputs": [
    {
     "name": "stdout",
     "output_type": "stream",
     "text": [
      "Help on method create_namespaced_custom_object in module kubernetes.client.api.custom_objects_api:\n",
      "\n",
      "create_namespaced_custom_object(group, version, namespace, plural, body, **kwargs) method of kubernetes.client.api.custom_objects_api.CustomObjectsApi instance\n",
      "    create_namespaced_custom_object  # noqa: E501\n",
      "    \n",
      "    Creates a namespace scoped Custom object  # noqa: E501\n",
      "    This method makes a synchronous HTTP request by default. To make an\n",
      "    asynchronous HTTP request, please pass async_req=True\n",
      "    >>> thread = api.create_namespaced_custom_object(group, version, namespace, plural, body, async_req=True)\n",
      "    >>> result = thread.get()\n",
      "    \n",
      "    :param async_req bool: execute request asynchronously\n",
      "    :param str group: The custom resource's group name (required)\n",
      "    :param str version: The custom resource's version (required)\n",
      "    :param str namespace: The custom resource's namespace (required)\n",
      "    :param str plural: The custom resource's plural name. For TPRs this would be lowercase plural kind. (required)\n",
      "    :param object body: The JSON schema of the Resource to create. (required)\n",
      "    :param str pretty: If 'true', then the output is pretty printed.\n",
      "    :param str dry_run: When present, indicates that modifications should not be persisted. An invalid or unrecognized dryRun directive will result in an error response and no further processing of the request. Valid values are: - All: all dry run stages will be processed\n",
      "    :param str field_manager: fieldManager is a name associated with the actor or entity that is making these changes. The value must be less than or 128 characters long, and only contain printable characters, as defined by https://golang.org/pkg/unicode/#IsPrint.\n",
      "    :param _preload_content: if False, the urllib3.HTTPResponse object will\n",
      "                             be returned without reading/decoding response\n",
      "                             data. Default is True.\n",
      "    :param _request_timeout: timeout setting for this request. If one\n",
      "                             number provided, it will be total request\n",
      "                             timeout. It can also be a pair (tuple) of\n",
      "                             (connection, read) timeouts.\n",
      "    :return: object\n",
      "             If the method is called asynchronously,\n",
      "             returns the request thread.\n",
      "\n"
     ]
    }
   ],
   "source": [
    "help(api_custom_object.create_namespaced_custom_object)"
   ]
  },
  {
   "cell_type": "code",
   "execution_count": 15,
   "id": "80485eec-e8a2-49d7-baab-7ebd99f4d65f",
   "metadata": {},
   "outputs": [
    {
     "name": "stdout",
     "output_type": "stream",
     "text": [
      "Help on method delete_namespaced_custom_object in module kubernetes.client.api.custom_objects_api:\n",
      "\n",
      "delete_namespaced_custom_object(group, version, namespace, plural, name, **kwargs) method of kubernetes.client.api.custom_objects_api.CustomObjectsApi instance\n",
      "    delete_namespaced_custom_object  # noqa: E501\n",
      "    \n",
      "    Deletes the specified namespace scoped custom object  # noqa: E501\n",
      "    This method makes a synchronous HTTP request by default. To make an\n",
      "    asynchronous HTTP request, please pass async_req=True\n",
      "    >>> thread = api.delete_namespaced_custom_object(group, version, namespace, plural, name, async_req=True)\n",
      "    >>> result = thread.get()\n",
      "    \n",
      "    :param async_req bool: execute request asynchronously\n",
      "    :param str group: the custom resource's group (required)\n",
      "    :param str version: the custom resource's version (required)\n",
      "    :param str namespace: The custom resource's namespace (required)\n",
      "    :param str plural: the custom resource's plural name. For TPRs this would be lowercase plural kind. (required)\n",
      "    :param str name: the custom object's name (required)\n",
      "    :param int grace_period_seconds: The duration in seconds before the object should be deleted. Value must be non-negative integer. The value zero indicates delete immediately. If this value is nil, the default grace period for the specified type will be used. Defaults to a per object value if not specified. zero means delete immediately.\n",
      "    :param bool orphan_dependents: Deprecated: please use the PropagationPolicy, this field will be deprecated in 1.7. Should the dependent objects be orphaned. If true/false, the \"orphan\" finalizer will be added to/removed from the object's finalizers list. Either this field or PropagationPolicy may be set, but not both.\n",
      "    :param str propagation_policy: Whether and how garbage collection will be performed. Either this field or OrphanDependents may be set, but not both. The default policy is decided by the existing finalizer set in the metadata.finalizers and the resource-specific default policy.\n",
      "    :param str dry_run: When present, indicates that modifications should not be persisted. An invalid or unrecognized dryRun directive will result in an error response and no further processing of the request. Valid values are: - All: all dry run stages will be processed\n",
      "    :param V1DeleteOptions body:\n",
      "    :param _preload_content: if False, the urllib3.HTTPResponse object will\n",
      "                             be returned without reading/decoding response\n",
      "                             data. Default is True.\n",
      "    :param _request_timeout: timeout setting for this request. If one\n",
      "                             number provided, it will be total request\n",
      "                             timeout. It can also be a pair (tuple) of\n",
      "                             (connection, read) timeouts.\n",
      "    :return: object\n",
      "             If the method is called asynchronously,\n",
      "             returns the request thread.\n",
      "\n"
     ]
    }
   ],
   "source": [
    "help(api_custom_object.delete_namespaced_custom_object)"
   ]
  },
  {
   "cell_type": "code",
   "execution_count": null,
   "id": "dfa78ccd-2aac-41be-96d9-e6cb9603c4dc",
   "metadata": {},
   "outputs": [],
   "source": []
  }
 ],
 "metadata": {
  "kernelspec": {
   "display_name": "Python 3",
   "language": "python",
   "name": "python3"
  },
  "language_info": {
   "codemirror_mode": {
    "name": "ipython",
    "version": 3
   },
   "file_extension": ".py",
   "mimetype": "text/x-python",
   "name": "python",
   "nbconvert_exporter": "python",
   "pygments_lexer": "ipython3",
   "version": "3.8.10"
  }
 },
 "nbformat": 4,
 "nbformat_minor": 5
}
