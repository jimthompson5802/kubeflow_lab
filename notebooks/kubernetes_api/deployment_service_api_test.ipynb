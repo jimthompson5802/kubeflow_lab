{
 "cells": [
  {
   "cell_type": "markdown",
   "id": "93709d42-2e07-4a03-b48c-d1e42f2819ae",
   "metadata": {},
   "source": [
    "# K8s Python API - Creating Deploytment and Service"
   ]
  },
  {
   "cell_type": "markdown",
   "id": "3dc4560a-e2af-492c-bbc3-321ca35d5a7f",
   "metadata": {},
   "source": [
    "## Install python api package"
   ]
  },
  {
   "cell_type": "code",
   "execution_count": 1,
   "id": "cacb321b-10d8-428b-8e28-cbc6066581b3",
   "metadata": {},
   "outputs": [],
   "source": [
    "#!pip install kubernetes"
   ]
  },
  {
   "cell_type": "markdown",
   "id": "45a22fc5-5957-4e45-83bf-7f1a4f7880a1",
   "metadata": {},
   "source": [
    "## Imports"
   ]
  },
  {
   "cell_type": "code",
   "execution_count": 2,
   "id": "39768ca3-8354-4f4a-979e-ca9d89546dc8",
   "metadata": {},
   "outputs": [],
   "source": [
    "from kubernetes import client, config, utils\n",
    "import yaml"
   ]
  },
  {
   "cell_type": "markdown",
   "id": "a6ad9631-fbfc-45f6-9a39-b68dcf6601be",
   "metadata": {},
   "source": [
    "## Yaml Templates for k8s objects"
   ]
  },
  {
   "cell_type": "code",
   "execution_count": 3,
   "id": "183b2033-9d79-45fa-8c6e-4a88a32d6eff",
   "metadata": {},
   "outputs": [],
   "source": [
    "deployment_yaml = \"\"\"\n",
    "apiVersion: apps/v1\n",
    "kind: Deployment\n",
    "metadata:\n",
    "  name: '**place-holder**'\n",
    "spec:\n",
    "  selector:\n",
    "    matchLabels:\n",
    "      run: '**place-holder**'\n",
    "  replicas: 2\n",
    "  template:\n",
    "    metadata:\n",
    "      labels:\n",
    "        run: '**place-holder**'\n",
    "    spec:\n",
    "      containers:\n",
    "      - name: my-nginx\n",
    "        image: nginx\n",
    "        ports:\n",
    "        - containerPort: 80\n",
    "\"\"\"\n",
    "\n",
    "service_yaml = \"\"\"\n",
    "apiVersion: v1\n",
    "kind: Service\n",
    "metadata:\n",
    "  name: '**place-holder**'\n",
    "#  labels:\n",
    "#    run: '**place-holder**'\n",
    "spec:\n",
    "  ports:\n",
    "  - port: 80\n",
    "    protocol: TCP\n",
    "  selector:\n",
    "    run: '**place-holder**'\n",
    "\"\"\"\n"
   ]
  },
  {
   "cell_type": "markdown",
   "id": "4636744f-d9fb-44de-b7d6-fce28e7c7da4",
   "metadata": {},
   "source": [
    "## setup for for accessing k8s"
   ]
  },
  {
   "cell_type": "code",
   "execution_count": 4,
   "id": "468eeb12-6612-4793-a80d-05a57001cebe",
   "metadata": {},
   "outputs": [],
   "source": [
    "# get in-cluster config\n",
    "config.load_incluster_config()\n",
    "\n",
    "# Client API Interface\n",
    "api_client = client.ApiClient()\n",
    "\n",
    "# V1 Core API Interface\n",
    "v1_api = client.CoreV1Api()\n",
    "\n",
    "# V1 Apps API Interface\n",
    "v1_app_api = client.AppsV1Api()"
   ]
  },
  {
   "cell_type": "markdown",
   "id": "459a1169-088a-454e-baba-922d9b097bb5",
   "metadata": {},
   "source": [
    "## Create deployment"
   ]
  },
  {
   "cell_type": "code",
   "execution_count": 5,
   "id": "b4c3a8e8-bedb-4cf3-8cdb-efb681266b3f",
   "metadata": {},
   "outputs": [],
   "source": [
    "# convert yaml template to dictionary\n",
    "deployment = yaml.load(deployment_yaml, Loader=yaml.SafeLoader)\n",
    "\n",
    "# update name\n",
    "deployment['metadata']['name'] = 'jmt-nginx'\n",
    "deployment['spec']['selector']['matchLabels']['run'] = 'jmt-nginx'\n",
    "deployment['spec']['template']['metadata']['labels']['run'] =  'jmt-nginx'\n",
    "                                              \n",
    "\n",
    "# Pass to api client to create deployment object\n",
    "#deployment_objects = utils.create_from_dict(api_client, deployment, namespace='kubeflow-user')"
   ]
  },
  {
   "cell_type": "code",
   "execution_count": 6,
   "id": "1f45f8f7-a95b-4bd0-ae12-2ea648ecc286",
   "metadata": {},
   "outputs": [],
   "source": [
    "# convert template to dictionary\n",
    "service = yaml.load(service_yaml, Loader=yaml.SafeLoader)\n",
    "\n",
    "# modify for specific service deployment\n",
    "service['metadata']['name'] = 'jmt-nginx'\n",
    "service['metadata']['labels'] = {'run': 'jmt-nginx'}\n",
    "service['spec']['selector']['run'] = 'jmt-nginx'\n",
    "\n",
    "# pass to api client to create service object\n",
    "# service_objects = utils.create_from_dict(api_client, service, namespace='kubeflow-user')"
   ]
  },
  {
   "cell_type": "code",
   "execution_count": 7,
   "id": "a018c234-13f6-4bfb-a4d7-a1ae2d14cabf",
   "metadata": {},
   "outputs": [],
   "source": [
    "# setup list of k8s resources to instanstiate\n",
    "k8s_resource_list = {\n",
    "    'apiVersion': 'v1',\n",
    "    'kind': 'List',\n",
    "    'items': [deployment, service]\n",
    "}\n",
    "\n",
    "# instantiate the k8s resources\n",
    "k8s_objects = utils.create_from_dict(api_client, k8s_resource_list, namespace='kubeflow-user')"
   ]
  },
  {
   "cell_type": "markdown",
   "id": "ca79333e-0628-4991-8cd8-75ced5be2ee8",
   "metadata": {},
   "source": [
    "## show k8s objects"
   ]
  },
  {
   "cell_type": "code",
   "execution_count": 8,
   "id": "4374536c-42d7-4c6c-8a13-2ea932f15952",
   "metadata": {},
   "outputs": [
    {
     "name": "stdout",
     "output_type": "stream",
     "text": [
      "jmt-nginx Deployment\n",
      "jmt-nginx Service\n"
     ]
    }
   ],
   "source": [
    "for o in k8s_objects:\n",
    "    print(o.metadata.name, o.kind)"
   ]
  },
  {
   "cell_type": "code",
   "execution_count": 10,
   "id": "8ba6452f-3545-4999-bb91-400a304dcfed",
   "metadata": {},
   "outputs": [
    {
     "name": "stdout",
     "output_type": "stream",
     "text": [
      "NAME                              READY   UP-TO-DATE   AVAILABLE   AGE\n",
      "ml-pipeline-visualizationserver   1/1     1            1           18h\n",
      "ml-pipeline-ui-artifact           1/1     1            1           18h\n",
      "jmt-nginx                         2/2     2            2           16s\n"
     ]
    }
   ],
   "source": [
    "!kubectl get deploy"
   ]
  },
  {
   "cell_type": "code",
   "execution_count": 11,
   "id": "227a024d-f2f7-4f38-b1b8-e9a77777b6f4",
   "metadata": {},
   "outputs": [
    {
     "name": "stdout",
     "output_type": "stream",
     "text": [
      "Name:                   jmt-nginx\n",
      "Namespace:              kubeflow-user\n",
      "CreationTimestamp:      Sun, 19 Dec 2021 17:22:48 +0000\n",
      "Labels:                 <none>\n",
      "Annotations:            deployment.kubernetes.io/revision: 1\n",
      "Selector:               run=jmt-nginx\n",
      "Replicas:               2 desired | 2 updated | 2 total | 2 available | 0 unavailable\n",
      "StrategyType:           RollingUpdate\n",
      "MinReadySeconds:        0\n",
      "RollingUpdateStrategy:  25% max unavailable, 25% max surge\n",
      "Pod Template:\n",
      "  Labels:  run=jmt-nginx\n",
      "  Containers:\n",
      "   my-nginx:\n",
      "    Image:        nginx\n",
      "    Port:         80/TCP\n",
      "    Host Port:    0/TCP\n",
      "    Environment:  <none>\n",
      "    Mounts:       <none>\n",
      "  Volumes:        <none>\n",
      "Conditions:\n",
      "  Type           Status  Reason\n",
      "  ----           ------  ------\n",
      "  Available      True    MinimumReplicasAvailable\n",
      "  Progressing    True    NewReplicaSetAvailable\n",
      "OldReplicaSets:  <none>\n",
      "NewReplicaSet:   jmt-nginx-5bb4fb5ff4 (2/2 replicas created)\n",
      "Events:\n",
      "  Type    Reason             Age   From                   Message\n",
      "  ----    ------             ----  ----                   -------\n",
      "  Normal  ScalingReplicaSet  18s   deployment-controller  Scaled up replica set jmt-nginx-5bb4fb5ff4 to 2\n"
     ]
    }
   ],
   "source": [
    "!kubectl describe deploy jmt-nginx"
   ]
  },
  {
   "cell_type": "code",
   "execution_count": 12,
   "id": "2f2d0201-c3fa-448b-9f80-17fb346fe4fd",
   "metadata": {},
   "outputs": [
    {
     "name": "stdout",
     "output_type": "stream",
     "text": [
      "NAME                         READY   STATUS    RESTARTS   AGE\n",
      "jmt-nginx-5bb4fb5ff4-7rb8f   2/2     Running   0          17s\n",
      "jmt-nginx-5bb4fb5ff4-fxggt   2/2     Running   0          18s\n"
     ]
    }
   ],
   "source": [
    "!kubectl get pod -l run=jmt-nginx"
   ]
  },
  {
   "cell_type": "code",
   "execution_count": 13,
   "id": "84a8fad3-fcdf-4fdf-81b2-3d264c8992ea",
   "metadata": {},
   "outputs": [],
   "source": [
    "# find first pod of the deployment\n",
    "ret = v1_api.list_namespaced_pod('kubeflow-user')\n",
    "for i in ret.items:\n",
    "    if i.metadata.labels.get('run', None) == 'jmt-nginx':\n",
    "        pod_to_list = i.metadata.name\n",
    "        break"
   ]
  },
  {
   "cell_type": "code",
   "execution_count": 14,
   "id": "705a1a9b-bb93-41b8-a121-bfee937961aa",
   "metadata": {},
   "outputs": [
    {
     "name": "stdout",
     "output_type": "stream",
     "text": [
      "Name:         jmt-nginx-5bb4fb5ff4-7rb8f\n",
      "Namespace:    kubeflow-user\n",
      "Priority:     0\n",
      "Node:         k3d-kubeflow-server-0/172.19.0.3\n",
      "Start Time:   Sun, 19 Dec 2021 17:22:51 +0000\n",
      "Labels:       istio.io/rev=default\n",
      "              pod-template-hash=5bb4fb5ff4\n",
      "              run=jmt-nginx\n",
      "              security.istio.io/tlsMode=istio\n",
      "              service.istio.io/canonical-name=jmt-nginx\n",
      "              service.istio.io/canonical-revision=latest\n",
      "Annotations:  kubectl.kubernetes.io/default-logs-container: my-nginx\n",
      "              prometheus.io/path: /stats/prometheus\n",
      "              prometheus.io/port: 15020\n",
      "              prometheus.io/scrape: true\n",
      "              sidecar.istio.io/status:\n",
      "                {\"initContainers\":[\"istio-init\"],\"containers\":[\"istio-proxy\"],\"volumes\":[\"istio-envoy\",\"istio-data\",\"istio-podinfo\",\"istio-token\",\"istiod-...\n",
      "Status:       Running\n",
      "IP:           10.42.0.133\n",
      "IPs:\n",
      "  IP:           10.42.0.133\n",
      "Controlled By:  ReplicaSet/jmt-nginx-5bb4fb5ff4\n",
      "Init Containers:\n",
      "  istio-init:\n",
      "    Container ID:  containerd://2e1fc4b0e0b1ac8bb88069250e3b4644b046a267a873816e4f11e92d7b42555c\n",
      "    Image:         docker.io/istio/proxyv2:1.9.6\n",
      "    Image ID:      docker.io/istio/proxyv2@sha256:87a9db561d2ef628deea7a4cbd0adf008a2f64355a2796e3b840d445b7e9cd3e\n",
      "    Port:          <none>\n",
      "    Host Port:     <none>\n",
      "    Args:\n",
      "      istio-iptables\n",
      "      -p\n",
      "      15001\n",
      "      -z\n",
      "      15006\n",
      "      -u\n",
      "      1337\n",
      "      -m\n",
      "      REDIRECT\n",
      "      -i\n",
      "      *\n",
      "      -x\n",
      "      \n",
      "      -b\n",
      "      *\n",
      "      -d\n",
      "      15090,15021,15020\n",
      "    State:          Terminated\n",
      "      Reason:       Completed\n",
      "      Exit Code:    0\n",
      "      Started:      Sun, 19 Dec 2021 17:22:52 +0000\n",
      "      Finished:     Sun, 19 Dec 2021 17:22:52 +0000\n",
      "    Ready:          True\n",
      "    Restart Count:  0\n",
      "    Limits:\n",
      "      cpu:     2\n",
      "      memory:  1Gi\n",
      "    Requests:\n",
      "      cpu:        10m\n",
      "      memory:     40Mi\n",
      "    Environment:  <none>\n",
      "    Mounts:\n",
      "      /var/run/secrets/kubernetes.io/serviceaccount from default-token-n5ssv (ro)\n",
      "Containers:\n",
      "  my-nginx:\n",
      "    Container ID:   containerd://ce08079ef0e4efc63e98371ef157f2a17b1c97f43b1c7b655ab96213e02d0541\n",
      "    Image:          nginx\n",
      "    Image ID:       docker.io/library/nginx@sha256:9522864dd661dcadfd9958f9e0de192a1fdda2c162a35668ab6ac42b465f0603\n",
      "    Port:           80/TCP\n",
      "    Host Port:      0/TCP\n",
      "    State:          Running\n",
      "      Started:      Sun, 19 Dec 2021 17:22:53 +0000\n",
      "    Ready:          True\n",
      "    Restart Count:  0\n",
      "    Environment:    <none>\n",
      "    Mounts:\n",
      "      /var/run/secrets/kubernetes.io/serviceaccount from default-token-n5ssv (ro)\n",
      "  istio-proxy:\n",
      "    Container ID:  containerd://f0e229608473da18aa893218fc5531f265cc5db00090b1f13e8d62636afd8d58\n",
      "    Image:         docker.io/istio/proxyv2:1.9.6\n",
      "    Image ID:      docker.io/istio/proxyv2@sha256:87a9db561d2ef628deea7a4cbd0adf008a2f64355a2796e3b840d445b7e9cd3e\n",
      "    Port:          15090/TCP\n",
      "    Host Port:     0/TCP\n",
      "    Args:\n",
      "      proxy\n",
      "      sidecar\n",
      "      --domain\n",
      "      $(POD_NAMESPACE).svc.cluster.local\n",
      "      --serviceCluster\n",
      "      jmt-nginx.kubeflow-user\n",
      "      --proxyLogLevel=warning\n",
      "      --proxyComponentLogLevel=misc:error\n",
      "      --log_output_level=default:info\n",
      "      --concurrency\n",
      "      2\n",
      "    State:          Running\n",
      "      Started:      Sun, 19 Dec 2021 17:22:53 +0000\n",
      "    Ready:          True\n",
      "    Restart Count:  0\n",
      "    Limits:\n",
      "      cpu:     2\n",
      "      memory:  1Gi\n",
      "    Requests:\n",
      "      cpu:      10m\n",
      "      memory:   40Mi\n",
      "    Readiness:  http-get http://:15021/healthz/ready delay=1s timeout=3s period=2s #success=1 #failure=30\n",
      "    Environment:\n",
      "      JWT_POLICY:                    third-party-jwt\n",
      "      PILOT_CERT_PROVIDER:           istiod\n",
      "      CA_ADDR:                       istiod.istio-system.svc:15012\n",
      "      POD_NAME:                      jmt-nginx-5bb4fb5ff4-7rb8f (v1:metadata.name)\n",
      "      POD_NAMESPACE:                 kubeflow-user (v1:metadata.namespace)\n",
      "      INSTANCE_IP:                    (v1:status.podIP)\n",
      "      SERVICE_ACCOUNT:                (v1:spec.serviceAccountName)\n",
      "      HOST_IP:                        (v1:status.hostIP)\n",
      "      CANONICAL_SERVICE:              (v1:metadata.labels['service.istio.io/canonical-name'])\n",
      "      CANONICAL_REVISION:             (v1:metadata.labels['service.istio.io/canonical-revision'])\n",
      "      PROXY_CONFIG:                  {\"tracing\":{}}\n",
      "                                     \n",
      "      ISTIO_META_POD_PORTS:          [\n",
      "                                         {\"containerPort\":80,\"protocol\":\"TCP\"}\n",
      "                                     ]\n",
      "      ISTIO_META_APP_CONTAINERS:     my-nginx\n",
      "      ISTIO_META_CLUSTER_ID:         Kubernetes\n",
      "      ISTIO_META_INTERCEPTION_MODE:  REDIRECT\n",
      "      ISTIO_META_WORKLOAD_NAME:      jmt-nginx\n",
      "      ISTIO_META_OWNER:              kubernetes://apis/apps/v1/namespaces/kubeflow-user/deployments/jmt-nginx\n",
      "      ISTIO_META_MESH_ID:            cluster.local\n",
      "      TRUST_DOMAIN:                  cluster.local\n",
      "    Mounts:\n",
      "      /etc/istio/pod from istio-podinfo (rw)\n",
      "      /etc/istio/proxy from istio-envoy (rw)\n",
      "      /var/lib/istio/data from istio-data (rw)\n",
      "      /var/run/secrets/istio from istiod-ca-cert (rw)\n",
      "      /var/run/secrets/kubernetes.io/serviceaccount from default-token-n5ssv (ro)\n",
      "      /var/run/secrets/tokens from istio-token (rw)\n",
      "Conditions:\n",
      "  Type              Status\n",
      "  Initialized       True \n",
      "  Ready             True \n",
      "  ContainersReady   True \n",
      "  PodScheduled      True \n",
      "Volumes:\n",
      "  istio-envoy:\n",
      "    Type:       EmptyDir (a temporary directory that shares a pod's lifetime)\n",
      "    Medium:     Memory\n",
      "    SizeLimit:  <unset>\n",
      "  istio-data:\n",
      "    Type:       EmptyDir (a temporary directory that shares a pod's lifetime)\n",
      "    Medium:     \n",
      "    SizeLimit:  <unset>\n",
      "  istio-podinfo:\n",
      "    Type:  DownwardAPI (a volume populated by information about the pod)\n",
      "    Items:\n",
      "      metadata.labels -> labels\n",
      "      metadata.annotations -> annotations\n",
      "      limits.cpu -> cpu-limit\n",
      "      requests.cpu -> cpu-request\n",
      "  istio-token:\n",
      "    Type:                    Projected (a volume that contains injected data from multiple sources)\n",
      "    TokenExpirationSeconds:  43200\n",
      "  istiod-ca-cert:\n",
      "    Type:      ConfigMap (a volume populated by a ConfigMap)\n",
      "    Name:      istio-ca-root-cert\n",
      "    Optional:  false\n",
      "  default-token-n5ssv:\n",
      "    Type:        Secret (a volume populated by a Secret)\n",
      "    SecretName:  default-token-n5ssv\n",
      "    Optional:    false\n",
      "QoS Class:       Burstable\n",
      "Node-Selectors:  <none>\n",
      "Tolerations:     node.kubernetes.io/not-ready:NoExecute op=Exists for 300s\n",
      "                 node.kubernetes.io/unreachable:NoExecute op=Exists for 300s\n",
      "Events:\n",
      "  Type     Reason     Age   From               Message\n",
      "  ----     ------     ----  ----               -------\n",
      "  Normal   Scheduled  20s   default-scheduler  Successfully assigned kubeflow-user/jmt-nginx-5bb4fb5ff4-7rb8f to k3d-kubeflow-server-0\n",
      "  Normal   Pulling    20s   kubelet            Pulling image \"docker.io/istio/proxyv2:1.9.6\"\n",
      "  Normal   Pulled     20s   kubelet            Successfully pulled image \"docker.io/istio/proxyv2:1.9.6\" in 280.0189ms\n",
      "  Normal   Created    20s   kubelet            Created container istio-init\n",
      "  Normal   Started    20s   kubelet            Started container istio-init\n",
      "  Normal   Created    19s   kubelet            Created container my-nginx\n",
      "  Normal   Pulled     19s   kubelet            Successfully pulled image \"nginx\" in 226.6344ms\n",
      "  Normal   Pulling    19s   kubelet            Pulling image \"nginx\"\n",
      "  Normal   Started    19s   kubelet            Started container my-nginx\n",
      "  Normal   Pulling    19s   kubelet            Pulling image \"docker.io/istio/proxyv2:1.9.6\"\n",
      "  Normal   Pulled     19s   kubelet            Successfully pulled image \"docker.io/istio/proxyv2:1.9.6\" in 265.7231ms\n",
      "  Normal   Created    19s   kubelet            Created container istio-proxy\n",
      "  Normal   Started    19s   kubelet            Started container istio-proxy\n",
      "  Warning  Unhealthy  18s   kubelet            Readiness probe failed: Get \"http://10.42.0.133:15021/healthz/ready\": dial tcp 10.42.0.133:15021: connect: connection refused\n"
     ]
    }
   ],
   "source": [
    "!kubectl describe pod $pod_to_list"
   ]
  },
  {
   "cell_type": "code",
   "execution_count": 15,
   "id": "c814e9df-7e45-40b5-8b70-8d4b7c4c32e7",
   "metadata": {},
   "outputs": [
    {
     "name": "stdout",
     "output_type": "stream",
     "text": [
      "Using deprecated annotation `kubectl.kubernetes.io/default-logs-container` in pod/jmt-nginx-5bb4fb5ff4-7rb8f. Please use `kubectl.kubernetes.io/default-container` instead\n",
      "/docker-entrypoint.sh: /docker-entrypoint.d/ is not empty, will attempt to perform configuration\n",
      "/docker-entrypoint.sh: Looking for shell scripts in /docker-entrypoint.d/\n",
      "/docker-entrypoint.sh: Launching /docker-entrypoint.d/10-listen-on-ipv6-by-default.sh\n",
      "10-listen-on-ipv6-by-default.sh: info: Getting the checksum of /etc/nginx/conf.d/default.conf\n",
      "10-listen-on-ipv6-by-default.sh: info: Enabled listen on IPv6 in /etc/nginx/conf.d/default.conf\n",
      "/docker-entrypoint.sh: Launching /docker-entrypoint.d/20-envsubst-on-templates.sh\n",
      "/docker-entrypoint.sh: Launching /docker-entrypoint.d/30-tune-worker-processes.sh\n",
      "/docker-entrypoint.sh: Configuration complete; ready for start up\n",
      "2021/12/19 17:22:53 [notice] 1#1: using the \"epoll\" event method\n",
      "2021/12/19 17:22:53 [notice] 1#1: nginx/1.21.4\n",
      "2021/12/19 17:22:53 [notice] 1#1: built by gcc 10.2.1 20210110 (Debian 10.2.1-6) \n",
      "2021/12/19 17:22:53 [notice] 1#1: OS: Linux 5.10.47-linuxkit\n",
      "2021/12/19 17:22:53 [notice] 1#1: getrlimit(RLIMIT_NOFILE): 1048576:1048576\n",
      "2021/12/19 17:22:53 [notice] 1#1: start worker processes\n",
      "2021/12/19 17:22:53 [notice] 1#1: start worker process 31\n",
      "2021/12/19 17:22:53 [notice] 1#1: start worker process 32\n",
      "2021/12/19 17:22:53 [notice] 1#1: start worker process 33\n",
      "2021/12/19 17:22:53 [notice] 1#1: start worker process 34\n",
      "2021/12/19 17:22:53 [notice] 1#1: start worker process 35\n",
      "2021/12/19 17:22:53 [notice] 1#1: start worker process 36\n",
      "2021/12/19 17:22:53 [notice] 1#1: start worker process 37\n",
      "2021/12/19 17:22:53 [notice] 1#1: start worker process 38\n"
     ]
    }
   ],
   "source": [
    "!kubectl logs $pod_to_list"
   ]
  },
  {
   "cell_type": "code",
   "execution_count": 16,
   "id": "835767d2-115b-4b89-adb0-8b0df5f52487",
   "metadata": {},
   "outputs": [
    {
     "name": "stdout",
     "output_type": "stream",
     "text": [
      "NAME                              TYPE        CLUSTER-IP      EXTERNAL-IP   PORT(S)    AGE\n",
      "ml-pipeline-visualizationserver   ClusterIP   10.43.199.188   <none>        8888/TCP   18h\n",
      "ml-pipeline-ui-artifact           ClusterIP   10.43.212.116   <none>        80/TCP     18h\n",
      "dask-development                  ClusterIP   10.43.200.151   <none>        80/TCP     18h\n",
      "dask-testnotebook                 ClusterIP   10.43.241.104   <none>        80/TCP     18h\n",
      "jmt-nginx                         ClusterIP   10.43.144.181   <none>        80/TCP     36s\n"
     ]
    }
   ],
   "source": [
    "!kubectl get service"
   ]
  },
  {
   "cell_type": "code",
   "execution_count": 17,
   "id": "937d39a2-7b8e-4538-bb19-884ca328b64e",
   "metadata": {},
   "outputs": [
    {
     "name": "stdout",
     "output_type": "stream",
     "text": [
      "Name:              jmt-nginx\n",
      "Namespace:         kubeflow-user\n",
      "Labels:            run=jmt-nginx\n",
      "Annotations:       <none>\n",
      "Selector:          run=jmt-nginx\n",
      "Type:              ClusterIP\n",
      "IP Families:       <none>\n",
      "IP:                10.43.144.181\n",
      "IPs:               10.43.144.181\n",
      "Port:              <unset>  80/TCP\n",
      "TargetPort:        80/TCP\n",
      "Endpoints:         10.42.0.133:80,10.42.1.192:80\n",
      "Session Affinity:  None\n",
      "Events:            <none>\n"
     ]
    }
   ],
   "source": [
    "!kubectl describe service jmt-nginx"
   ]
  },
  {
   "cell_type": "markdown",
   "id": "cf0d72fd-69f6-4530-9c7b-bf52ea7240f6",
   "metadata": {},
   "source": [
    "## Scale deployment\n"
   ]
  },
  {
   "cell_type": "code",
   "execution_count": 18,
   "id": "5d1d59f7-bb62-4a57-b179-1fa0174278a7",
   "metadata": {},
   "outputs": [
    {
     "data": {
      "text/plain": [
       "(2, 2, 'jmt-nginx', 'kubeflow-user')"
      ]
     },
     "execution_count": 18,
     "metadata": {},
     "output_type": "execute_result"
    }
   ],
   "source": [
    "# get deployment object\n",
    "nginx_deployment = v1_app_api.read_namespaced_deployment(\n",
    "    'jmt-nginx',\n",
    "    'kubeflow-user'\n",
    "\n",
    ")\n",
    "nginx_deployment.status.replicas, nginx_deployment.status.ready_replicas, \\\n",
    "    nginx_deployment.metadata.name, nginx_deployment.metadata.namespace"
   ]
  },
  {
   "cell_type": "markdown",
   "id": "6b0db3b1-d137-4c64-9e79-5f19f77fa1df",
   "metadata": {},
   "source": [
    "### Scale up"
   ]
  },
  {
   "cell_type": "code",
   "execution_count": 19,
   "id": "fac3fe7f-5634-4c47-baab-5ec0bd5ada5e",
   "metadata": {},
   "outputs": [
    {
     "data": {
      "text/plain": [
       "{'annotations': None,\n",
       " 'cluster_name': None,\n",
       " 'creation_timestamp': None,\n",
       " 'deletion_grace_period_seconds': None,\n",
       " 'deletion_timestamp': None,\n",
       " 'finalizers': None,\n",
       " 'generate_name': None,\n",
       " 'generation': None,\n",
       " 'labels': None,\n",
       " 'managed_fields': None,\n",
       " 'name': 'jmt-nginx',\n",
       " 'namespace': 'kubeflow-user',\n",
       " 'owner_references': None,\n",
       " 'resource_version': None,\n",
       " 'self_link': None,\n",
       " 'uid': None}"
      ]
     },
     "execution_count": 19,
     "metadata": {},
     "output_type": "execute_result"
    }
   ],
   "source": [
    "# initialize metadata component\n",
    "scaling_metadata = client.V1ObjectMeta(\n",
    "    name=nginx_deployment.metadata.name,\n",
    "    namespace=nginx_deployment.metadata.namespace\n",
    ")\n",
    "scaling_metadata"
   ]
  },
  {
   "cell_type": "code",
   "execution_count": 20,
   "id": "a8c37c96-e6cc-4d42-aad0-31defda25bbd",
   "metadata": {},
   "outputs": [
    {
     "data": {
      "text/plain": [
       "{'replicas': 3}"
      ]
     },
     "execution_count": 20,
     "metadata": {},
     "output_type": "execute_result"
    }
   ],
   "source": [
    "# increase replicas to 3\n",
    "scaling_spec = client.V1ScaleSpec(replicas=3)\n",
    "scaling_spec"
   ]
  },
  {
   "cell_type": "code",
   "execution_count": 21,
   "id": "ac2a3145-9aff-4d2d-9451-bfb51c9e4259",
   "metadata": {},
   "outputs": [
    {
     "data": {
      "text/plain": [
       "{'api_version': 'autoscaling/v1',\n",
       " 'kind': 'Scale',\n",
       " 'metadata': {'annotations': None,\n",
       "              'cluster_name': None,\n",
       "              'creation_timestamp': datetime.datetime(2021, 12, 19, 17, 22, 48, tzinfo=tzlocal()),\n",
       "              'deletion_grace_period_seconds': None,\n",
       "              'deletion_timestamp': None,\n",
       "              'finalizers': None,\n",
       "              'generate_name': None,\n",
       "              'generation': None,\n",
       "              'labels': None,\n",
       "              'managed_fields': None,\n",
       "              'name': 'jmt-nginx',\n",
       "              'namespace': 'kubeflow-user',\n",
       "              'owner_references': None,\n",
       "              'resource_version': '589493',\n",
       "              'self_link': None,\n",
       "              'uid': '350c39bf-6d3a-49fd-89d3-78281a4b05fe'},\n",
       " 'spec': {'replicas': 3},\n",
       " 'status': {'replicas': 2, 'selector': 'run=jmt-nginx'}}"
      ]
     },
     "execution_count": 21,
     "metadata": {},
     "output_type": "execute_result"
    }
   ],
   "source": [
    "# scale up to 3 replicas\n",
    "v1_app_api.replace_namespaced_deployment_scale(\n",
    "    name=nginx_deployment.metadata.name,\n",
    "    namespace=nginx_deployment.metadata.namespace,\n",
    "    body=client.V1Scale(metadata=scaling_metadata, spec=scaling_spec),\n",
    "    pretty='true'\n",
    ")"
   ]
  },
  {
   "cell_type": "code",
   "execution_count": 23,
   "id": "739472c4-e2db-4cc0-bda5-243a48885885",
   "metadata": {},
   "outputs": [
    {
     "name": "stdout",
     "output_type": "stream",
     "text": [
      "NAME        READY   UP-TO-DATE   AVAILABLE   AGE\n",
      "jmt-nginx   3/3     3            3           110s\n"
     ]
    }
   ],
   "source": [
    "!kubectl get deploy jmt-nginx"
   ]
  },
  {
   "cell_type": "markdown",
   "id": "54c3fa6b-1691-423e-a59e-3b7fb0629f27",
   "metadata": {},
   "source": [
    "### Scale Down"
   ]
  },
  {
   "cell_type": "code",
   "execution_count": 24,
   "id": "8132514d-5cd4-43a4-aaf5-1fc38dddfeda",
   "metadata": {},
   "outputs": [
    {
     "data": {
      "text/plain": [
       "{'api_version': 'autoscaling/v1',\n",
       " 'kind': 'Scale',\n",
       " 'metadata': {'annotations': None,\n",
       "              'cluster_name': None,\n",
       "              'creation_timestamp': datetime.datetime(2021, 12, 19, 17, 22, 48, tzinfo=tzlocal()),\n",
       "              'deletion_grace_period_seconds': None,\n",
       "              'deletion_timestamp': None,\n",
       "              'finalizers': None,\n",
       "              'generate_name': None,\n",
       "              'generation': None,\n",
       "              'labels': None,\n",
       "              'managed_fields': None,\n",
       "              'name': 'jmt-nginx',\n",
       "              'namespace': 'kubeflow-user',\n",
       "              'owner_references': None,\n",
       "              'resource_version': '589911',\n",
       "              'self_link': None,\n",
       "              'uid': '350c39bf-6d3a-49fd-89d3-78281a4b05fe'},\n",
       " 'spec': {'replicas': 1},\n",
       " 'status': {'replicas': 3, 'selector': 'run=jmt-nginx'}}"
      ]
     },
     "execution_count": 24,
     "metadata": {},
     "output_type": "execute_result"
    }
   ],
   "source": [
    "# scale down to 1 replica\n",
    "scaling_spec = client.V1ScaleSpec(replicas=1)\n",
    "v1_app_api.replace_namespaced_deployment_scale(\n",
    "    name=nginx_deployment.metadata.name,\n",
    "    namespace=nginx_deployment.metadata.namespace,\n",
    "    body=client.V1Scale(metadata=scaling_metadata, spec=scaling_spec),\n",
    "    pretty='true'\n",
    ")"
   ]
  },
  {
   "cell_type": "code",
   "execution_count": 25,
   "id": "10a44554-b027-4ad6-b091-0f922590fc6a",
   "metadata": {},
   "outputs": [
    {
     "name": "stdout",
     "output_type": "stream",
     "text": [
      "NAME        READY   UP-TO-DATE   AVAILABLE   AGE\n",
      "jmt-nginx   1/1     1            1           2m14s\n"
     ]
    }
   ],
   "source": [
    "!kubectl get deploy jmt-nginx"
   ]
  },
  {
   "cell_type": "markdown",
   "id": "1289114f-a053-49c5-a0a9-3047c71caaef",
   "metadata": {},
   "source": [
    "## clean up"
   ]
  },
  {
   "cell_type": "code",
   "execution_count": 26,
   "id": "3a373fd0-54ba-45db-ba9e-6257e703bdf3",
   "metadata": {},
   "outputs": [
    {
     "name": "stdout",
     "output_type": "stream",
     "text": [
      "deployment.apps \"jmt-nginx\" deleted\n"
     ]
    }
   ],
   "source": [
    "!kubectl delete deploy jmt-nginx"
   ]
  },
  {
   "cell_type": "code",
   "execution_count": 27,
   "id": "63e1d336-7e91-40bb-80d4-005a963f1b8a",
   "metadata": {},
   "outputs": [
    {
     "name": "stdout",
     "output_type": "stream",
     "text": [
      "service \"jmt-nginx\" deleted\n"
     ]
    }
   ],
   "source": [
    "!kubectl delete service jmt-nginx"
   ]
  },
  {
   "cell_type": "code",
   "execution_count": null,
   "id": "b3c0f041-4d63-4325-84cf-8fa9a28c8204",
   "metadata": {},
   "outputs": [],
   "source": []
  }
 ],
 "metadata": {
  "kernelspec": {
   "display_name": "Python 3",
   "language": "python",
   "name": "python3"
  },
  "language_info": {
   "codemirror_mode": {
    "name": "ipython",
    "version": 3
   },
   "file_extension": ".py",
   "mimetype": "text/x-python",
   "name": "python",
   "nbconvert_exporter": "python",
   "pygments_lexer": "ipython3",
   "version": "3.8.10"
  }
 },
 "nbformat": 4,
 "nbformat_minor": 5
}
