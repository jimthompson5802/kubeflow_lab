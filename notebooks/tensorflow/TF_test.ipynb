{
 "cells": [
  {
   "cell_type": "code",
   "execution_count": 1,
   "id": "24556f63-95e5-403f-8007-0ca2f983150f",
   "metadata": {},
   "outputs": [],
   "source": [
    "#!/usr/bin/env python\n",
    "# coding: utf-8\n",
    "\n",
    "# In[ ]:\n",
    "# sourced from github\n",
    "\n",
    "#create artificial training data\n",
    "import numpy as np\n",
    "\n",
    "X = np.random.normal(size = (10000, 10, 30))\n",
    "y = np.random.binomial(1, 0.3, size = 10000)"
   ]
  },
  {
   "cell_type": "code",
   "execution_count": 2,
   "id": "cc88acc0-220b-462a-a8c9-7c0401b05a6b",
   "metadata": {},
   "outputs": [
    {
     "name": "stderr",
     "output_type": "stream",
     "text": [
      "2021-11-27 02:35:27.171719: W tensorflow/stream_executor/platform/default/dso_loader.cc:64] Could not load dynamic library 'libcudart.so.11.0'; dlerror: libcudart.so.11.0: cannot open shared object file: No such file or directory\n",
      "2021-11-27 02:35:27.171772: I tensorflow/stream_executor/cuda/cudart_stub.cc:29] Ignore above cudart dlerror if you do not have a GPU set up on your machine.\n"
     ]
    }
   ],
   "source": [
    "# In[ ]:\n",
    "\n",
    "\n",
    "#build and compile TF model\n",
    "from tensorflow.keras import Model\n",
    "from tensorflow.keras.layers import Input, LSTM, Dense, SpatialDropout1D, BatchNormalization, Dropout\n",
    "from tensorflow.keras.metrics import AUC\n",
    "\n",
    "def nn():\n",
    "    model_input = Input(shape = (10, 30))\n",
    "    model_dropout1 = SpatialDropout1D(0.2)(model_input)\n",
    "    model_lstm = LSTM(100, dropout = 0.2, recurrent_dropout = 0.2)(model_dropout1)\n",
    "    model_dense1 = Dense(50, activation = 'tanh')(model_lstm)\n",
    "    model_bn1 = BatchNormalization()(model_dense1)\n",
    "    model_dropout2 = Dropout(0.2)(model_bn1)\n",
    "    model_output = Dense(1, activation = 'sigmoid')(model_dropout2)\n",
    "    model = Model(model_input, model_output)\n",
    "    model.compile(loss = 'binary_crossentropy', optimizer = 'Adam', metrics = [AUC()])\n",
    "    \n",
    "    return model"
   ]
  },
  {
   "cell_type": "code",
   "execution_count": 6,
   "id": "8a01dd93-02ee-41ca-8560-1dc8f34e738c",
   "metadata": {},
   "outputs": [
    {
     "name": "stdout",
     "output_type": "stream",
     "text": [
      "Epoch 1/10\n",
      "313/313 [==============================] - 9s 22ms/step - loss: 0.6952 - auc_2: 0.4942\n",
      "Epoch 2/10\n",
      "313/313 [==============================] - 8s 27ms/step - loss: 0.6479 - auc_2: 0.4929\n",
      "Epoch 3/10\n",
      "313/313 [==============================] - 8s 26ms/step - loss: 0.6280 - auc_2: 0.5183\n",
      "Epoch 4/10\n",
      "313/313 [==============================] - 9s 27ms/step - loss: 0.6256 - auc_2: 0.5151\n",
      "Epoch 5/10\n",
      "313/313 [==============================] - 9s 28ms/step - loss: 0.6157 - auc_2: 0.5315\n",
      "Epoch 6/10\n",
      "313/313 [==============================] - 8s 25ms/step - loss: 0.6100 - auc_2: 0.5542\n",
      "Epoch 7/10\n",
      "313/313 [==============================] - 8s 27ms/step - loss: 0.6084 - auc_2: 0.5602\n",
      "Epoch 8/10\n",
      "313/313 [==============================] - 9s 28ms/step - loss: 0.6053 - auc_2: 0.5712\n",
      "Epoch 9/10\n",
      "313/313 [==============================] - 9s 28ms/step - loss: 0.6015 - auc_2: 0.5865\n",
      "Epoch 10/10\n",
      "313/313 [==============================] - 8s 26ms/step - loss: 0.5972 - auc_2: 0.6019\n"
     ]
    },
    {
     "data": {
      "text/plain": [
       "<keras.callbacks.History at 0x7f90645b4640>"
      ]
     },
     "execution_count": 6,
     "metadata": {},
     "output_type": "execute_result"
    }
   ],
   "source": [
    "# In[ ]:\n",
    "\n",
    "model = nn()\n",
    "model.fit(X, y, epochs=10)\n",
    "\n"
   ]
  },
  {
   "cell_type": "code",
   "execution_count": null,
   "id": "1425b76d-1f08-4b8b-901d-215e12e04421",
   "metadata": {},
   "outputs": [],
   "source": []
  }
 ],
 "metadata": {
  "kernelspec": {
   "display_name": "Python 3 (ipykernel)",
   "language": "python",
   "name": "python3"
  },
  "language_info": {
   "codemirror_mode": {
    "name": "ipython",
    "version": 3
   },
   "file_extension": ".py",
   "mimetype": "text/x-python",
   "name": "python",
   "nbconvert_exporter": "python",
   "pygments_lexer": "ipython3",
   "version": "3.9.7"
  }
 },
 "nbformat": 4,
 "nbformat_minor": 5
}
